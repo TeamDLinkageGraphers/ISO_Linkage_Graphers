{
 "cells": [
  {
   "cell_type": "markdown",
   "id": "5af21370",
   "metadata": {},
   "source": [
    "# Attribute-Based Company Linkages in AWS Neptune"
   ]
  },
  {
   "cell_type": "markdown",
   "id": "b09d5862",
   "metadata": {},
   "source": [
    "This notebook processes structured contact data into a graph structure using AWS Neptune.\n",
    "Each company is linked to identifiers like phone, email, and chat handles via attribute-specific edges."
   ]
  },
  {
   "cell_type": "markdown",
   "id": "680889b3",
   "metadata": {},
   "source": [
    "## Setup & Configuration"
   ]
  },
  {
   "cell_type": "code",
   "execution_count": null,
   "id": "d53f0aa2",
   "metadata": {},
   "outputs": [],
   "source": [
    "import re\n",
    "import pandas as pd\n",
    "import requests\n",
    "import json\n",
    "from tqdm import tqdm\n",
    "\n",
    "# AWS Neptune Configuration\n",
    "NEPTUNE_ENDPOINT = \"https://db-neptune-2.cluster-c8qttgkgfep5.us-east-1.neptune.amazonaws.com:8182/gremlin\"\n",
    "HEADERS = {\"Content-Type\": \"application/json\"}\n",
    "\n",
    "# Columns to extract for relationships\n",
    "VALUE_COLS = [\n",
    "    'Unified social credit code', 'Payment method', 'Website',\n",
    "    'Chat:WhatsApp', 'Chat:Wechat', 'Chat:Skype', 'Chat:Wickrme',\n",
    "    'Email1', 'Email2', 'Email3', 'Phone1', 'Phone2'\n",
    "]"
   ]
  },
  {
   "cell_type": "markdown",
   "id": "9e40489c",
   "metadata": {},
   "source": [
    "## Helper Functions"
   ]
  },
  {
   "cell_type": "code",
   "execution_count": null,
   "id": "fe27a26d",
   "metadata": {},
   "outputs": [],
   "source": [
    "def sanitize_edge(colname: str) -> str:\n",
    "    label = colname.lower()\n",
    "    label = re.sub(r'[^a-z0-9]', '_', label)\n",
    "    label = re.sub(r'_+', '_', label).strip('_')\n",
    "    return f\"has_{label}\"\n",
    "\n",
    "def send_gremlin(query: str):\n",
    "    resp = requests.post(NEPTUNE_ENDPOINT, headers=HEADERS, json={\"gremlin\": query})\n",
    "    if resp.status_code != 200:\n",
    "        print(f\"❌ {resp.status_code} error:\\n{resp.text}\\n→ {query}\\n\")\n",
    "    return resp.status_code == 200"
   ]
  },
  {
   "cell_type": "markdown",
   "id": "a9055b1e",
   "metadata": {},
   "source": [
    "## Load & Normalize Dataset"
   ]
  },
  {
   "cell_type": "code",
   "execution_count": null,
   "id": "bac7c671",
   "metadata": {},
   "outputs": [],
   "source": [
    "# Drop existing graph\n",
    "print(\"🗑 Dropping existing graph…\")\n",
    "send_gremlin(\"g.V().drop().iterate()\")\n",
    "\n",
    "# Load Excel data\n",
    "print(\"📥 Loading contact_2.xlsx…\")\n",
    "df = pd.read_excel(\"contact 2.xlsx\")\n",
    "df.columns = df.columns.str.strip()\n",
    "df.dropna(subset=['Base_Company'], inplace=True)\n",
    "\n",
    "# Normalize to long format\n",
    "long = (\n",
    "    df\n",
    "    .melt(id_vars=['Base_Company'], value_vars=VALUE_COLS,\n",
    "          var_name='col', value_name='value')\n",
    "    .dropna(subset=['value'])\n",
    ")\n",
    "\n",
    "def norm(v):\n",
    "    if isinstance(v, float) and v.is_integer():\n",
    "        return str(int(v))\n",
    "    return str(v).strip()\n",
    "\n",
    "long['value'] = long['value'].map(norm)"
   ]
  },
  {
   "cell_type": "markdown",
   "id": "251034eb",
   "metadata": {},
   "source": [
    "## Build Graph in Neptune"
   ]
  },
  {
   "cell_type": "code",
   "execution_count": null,
   "id": "e263e1db",
   "metadata": {},
   "outputs": [],
   "source": [
    "print(\"🔨 Upserting Company→Value edges…\")\n",
    "for company, group in tqdm(long.groupby('Base_Company'), desc=\"Companies\"):\n",
    "    send_gremlin(f\"\"\"\n",
    "      g.V().has('Company','name','{company}').fold()\n",
    "        .coalesce(unfold(),\n",
    "                  addV('Company').property('name','{company}')\n",
    "        ).iterate()\n",
    "    \"\"\")\n",
    "    for val, sub in group.groupby('value'):\n",
    "        send_gremlin(f\"\"\"\n",
    "          g.V().has('AttributeValue','value','{val}').fold()\n",
    "            .coalesce(unfold(),\n",
    "                      addV('AttributeValue').property('value','{val}')\n",
    "            ).iterate()\n",
    "        \"\"\")\n",
    "        for col in sub['col'].unique():\n",
    "            edge = sanitize_edge(col)\n",
    "            send_gremlin(f\"\"\"\n",
    "              g.V().has('Company','name','{company}').as('c')\n",
    "                .V().has('AttributeValue','value','{val}')\n",
    "                .coalesce(\n",
    "                  __.inE('{edge}').where(outV().as('c')),\n",
    "                  addE('{edge}').from('c')\n",
    "                ).iterate()\n",
    "            \"\"\")\n",
    "print(\"✅ Done!  All Company→has_<col>→AttributeValue edges are loaded.\")"
   ]
  }
 ],
 "metadata": {},
 "nbformat": 4,
 "nbformat_minor": 5
}
